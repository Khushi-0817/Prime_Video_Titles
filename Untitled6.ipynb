{
 "cells": [
  {
   "cell_type": "code",
   "execution_count": null,
   "id": "2c15533a-485c-43e9-bec3-f289c6cf4526",
   "metadata": {},
   "outputs": [],
   "source": [
    "import pandas as pd\n",
    "import matplotlib.pyplot as plt\n",
    "import seaborn as sns\n",
    "df = pd.read_csv(\"C:\\\\Users\\\\hp\\\\Downloads\\\\amazon_prime_titles.csv\")\n",
    "df.info()\n",
    "df.describe()\n",
    "df.drop_duplicates(inplace=True)\n",
    "df.dropna(subset=['release_year', 'rating', 'country', 'listed_in'], inplace=True)\n",
    "\n",
    "# bar chart\n",
    "plt.figure(figsize=(10, 6))\n",
    "top_genres = genres.value_counts().head(10) \n",
    "plt.bar(top_genres.index, top_genres.values, color='skyblue') \n",
    "plt.title('Top 10 Most Common Genres')\n",
    "plt.xlabel('Genre')\n",
    "plt.ylabel('Count')\n",
    "plt.xticks(rotation=45)"
   ]
  },
  {
   "cell_type": "code",
   "execution_count": null,
   "id": "cbabe9ef-5839-4830-9ed3-b5ee1d5cd2a3",
   "metadata": {},
   "outputs": [],
   "source": [
    "#plotting a line chart \n",
    "plt.figure(figsize=(10, 5))\n",
    "yearly_counts = df.groupby('release_year').size()\n",
    "plt.plot(yearly_counts.index, yearly_counts.values, marker='o', linestyle='-', color='red') \n",
    "plt.title('Number of Titles Released per Year')\n",
    "plt.xlabel('Year')\n",
    "plt.ylabel('Number of Titles')\n",
    "plt.grid()"
   ]
  },
  {
   "cell_type": "code",
   "execution_count": null,
   "id": "20f8c0e7-6fa9-4bbe-b05a-d7f26ed220db",
   "metadata": {},
   "outputs": [],
   "source": [
    "#plotting a pie chart showing top 5 content ratings distribution\n",
    "r_counts = df.groupby('rating').size().nlargest(5) \n",
    "plt.figure(figsize=(7, 7))\n",
    "colors = sns.color_palette('pastel')\n",
    "plt.pie(r_counts, labels=r_counts.index, autopct='%1.1f%%', colors=colors)\n",
    "plt.title('Top 5 Content Ratings Distribution')"
   ]
  },
  {
   "cell_type": "code",
   "execution_count": null,
   "id": "ef4e8422-926c-49c0-a8dd-be536420f165",
   "metadata": {},
   "outputs": [],
   "source": [
    "#plotting a histogram showing distribution of release years\n",
    "plt.figure(figsize=(10, 5))\n",
    "plt.hist(df['release_year'], bins=20, color='purple', edgecolor='black')  \n",
    "plt.title('Distribution of Release Years')\n",
    "plt.xlabel('Year')\n",
    "plt.ylabel('Frequency')\n",
    "plt.grid()"
   ]
  },
  {
   "cell_type": "code",
   "execution_count": null,
   "id": "587f9989-430f-4c70-a2c6-9c05ff0b4e02",
   "metadata": {},
   "outputs": [],
   "source": [
    "#plotting a donut chart showing Top 5 content ratings distribution\n",
    "r_counts = df['rating'].value_counts().head(5)\n",
    "plt.figure(figsize=(7, 7))\n",
    "colors = sns.color_palette('pastel')\n",
    "plt.pie(r_counts, labels=r_counts.index, autopct='%1.1f%%', colors=colors)\n",
    "plt.gca().add_artist(plt.Circle((0, 0), 0.50, fc='white'))\n",
    "plt.title('Top 5 Content Ratings Distribution')"
   ]
  },
  {
   "cell_type": "code",
   "execution_count": null,
   "id": "83f1cf78-9d60-4756-8df4-c075e7d4dc8a",
   "metadata": {},
   "outputs": [],
   "source": [
    "\n",
    "import pandas as pd\n",
    "import matplotlib.pyplot as plt\n",
    "import seaborn as sns\n",
    "\n",
    "df = pd.read_csv(\"C:\\\\Users\\\\hp\\\\Downloads\\\\amazon_prime_titles.csv\")\n",
    "df\n",
    "sns.get_dataset_names()\n",
    "iris=sns.load_dataset(\"iris\")\n",
    "iris\n",
    "sns.pairplot(iris, hue=\"species\")"
   ]
  }
 ],
 "metadata": {
  "kernelspec": {
   "display_name": "Python 3 (ipykernel)",
   "language": "python",
   "name": "python3"
  },
  "language_info": {
   "codemirror_mode": {
    "name": "ipython",
    "version": 3
   },
   "file_extension": ".py",
   "mimetype": "text/x-python",
   "name": "python",
   "nbconvert_exporter": "python",
   "pygments_lexer": "ipython3",
   "version": "3.12.7"
  }
 },
 "nbformat": 4,
 "nbformat_minor": 5
}
